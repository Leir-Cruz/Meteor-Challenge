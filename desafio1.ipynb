{
 "cells": [
  {
   "cell_type": "markdown",
   "metadata": {},
   "source": [
    "# Objetivo do desafio\n",
    "identificar o número de:\n",
    "- Meteoros;\n",
    "- Estrelas;\n",
    "- Meteoros perpendiculares ao mar;"
   ]
  },
  {
   "cell_type": "markdown",
   "metadata": {},
   "source": [
    "# Importanto bibliotecas\n",
    "- cv2 para leitura da imagem;\n",
    "- numpy para conseguirmos tratar dos dados com mais facilidade;\n",
    "- matplotlib para plotarmos a imagem;"
   ]
  },
  {
   "cell_type": "code",
   "execution_count": 29,
   "metadata": {},
   "outputs": [],
   "source": [
    "import cv2\n",
    "import numpy as np\n",
    "from matplotlib import pyplot as plt\n"
   ]
  },
  {
   "cell_type": "markdown",
   "metadata": {},
   "source": [
    "### Leitura da imagem"
   ]
  },
  {
   "cell_type": "code",
   "execution_count": 30,
   "metadata": {},
   "outputs": [
    {
     "data": {
      "text/plain": [
       "<matplotlib.image.AxesImage at 0x7f957df653d0>"
      ]
     },
     "execution_count": 30,
     "metadata": {},
     "output_type": "execute_result"
    },
    {
     "data": {
      "image/png": "[encoded data removed]",
      "text/plain": [
       "<Figure size 432x288 with 1 Axes>"
      ]
     },
     "metadata": {
      "needs_background": "light"
     },
     "output_type": "display_data"
    }
   ],
   "source": [
    "image = cv2.imread('meteor_challenge_01.png')\n",
    "imageRGB = cv2.cvtColor(image, cv2.COLOR_BGR2RGB)\n",
    "plt.imshow(imageRGB)"
   ]
  },
  {
   "cell_type": "markdown",
   "metadata": {},
   "source": [
    "### Transformando nossa imagem em um numpy array\n",
    "Ao invés de tratarmos os pixeis da imagem em um array tradicional, usaremos o numpy array por sua velocidade de processamento e consumo de memória."
   ]
  },
  {
   "cell_type": "code",
   "execution_count": 31,
   "metadata": {},
   "outputs": [
    {
     "name": "stdout",
     "output_type": "stream",
     "text": [
      "(704, 704, 3)\n"
     ]
    }
   ],
   "source": [
    "\n",
    "np_image = np.array(imageRGB)\n",
    "lines, columns, colors = np_image.shape\n",
    "print(np_image.shape)"
   ]
  },
  {
   "cell_type": "markdown",
   "metadata": {},
   "source": [
    "Tendo em mãos não só nossa matriz de valores, sendo cada valor a representação do valor RGB de um dos pixeis da nossa imagem, falta pouco para podermos calcular os objetivos solicitados."
   ]
  },
  {
   "cell_type": "markdown",
   "metadata": {},
   "source": [
    "### Guardando valores\n",
    "Para guardar os valores de estrelas, meteoros e meteoros perpendiculares iremos utilizar a estrutura de dicionário do Python."
   ]
  },
  {
   "cell_type": "code",
   "execution_count": 32,
   "metadata": {},
   "outputs": [],
   "source": [
    "tasks = {\n",
    "    'stars': 0,\n",
    "    'meteors': 0,\n",
    "    'perpendicular_meteors': 0\n",
    "}"
   ]
  },
  {
   "cell_type": "markdown",
   "metadata": {},
   "source": [
    "# Contagem de Estrelas, Meteoros e Meteoros perpendiculares\n",
    "Iremos utilziar nosso numpy array np_image para realizar a contagens solicitadas. Para isso, iremos primeiro fazer um loop em cada uma das colunas do np_image. Colocaremos como condição de parada encontrar um pixel preto ou azul, que simbolizam o horizonte e o mar respectivamente, tendo em vista que não iremos encontrar mais meteoros nem estrelas depois disso."
   ]
  },
  {
   "cell_type": "markdown",
   "metadata": {},
   "source": [
    "### Contagem de estrelas\n",
    "Sempre que encontrarmos um pixel branco, iremos adcionar 1 ao valor guardado pela chave 'stars' no nosso dicionário tasks."
   ]
  },
  {
   "cell_type": "markdown",
   "metadata": {},
   "source": [
    "### Contagem de meteoros e meteoros perpendiculares\n",
    "Diferente de quando encontrarmos um pixel branco, não iremos incrementar os valores do nosso dicionário diretamente. Nesse caso iremos utilizar uma variável auxiliar dentro do escopo de cada uma das interações, pois caso encontremos um pixel azul representando o mar, precisaremos ter os valores de meteoros guardados para adicionar no nosso dicionário os meteoros perpendiculares."
   ]
  },
  {
   "cell_type": "markdown",
   "metadata": {},
   "source": [
    "# Execução\n",
    "Para conseguirmos comparar os valores do nosso numpy array, precisaremos criar outros numpy_array para cada um dos valores de pixel que queremos (pure white, pure red, pure blue e pure black)."
   ]
  },
  {
   "cell_type": "code",
   "execution_count": 33,
   "metadata": {},
   "outputs": [],
   "source": [
    "star = np.array([ 255, 255, 255 ])\n",
    "meteor = np.array([ 255, 0, 0 ])\n",
    "ocean = np.array([ 0, 0, 255 ])\n",
    "horizon = np.array([0, 0, 0])"
   ]
  },
  {
   "cell_type": "code",
   "execution_count": 34,
   "metadata": {},
   "outputs": [],
   "source": [
    "for j in range(columns):\n",
    "    num_meteors = 0\n",
    "    column = np_image[:, j]\n",
    "    for i in range(lines):\n",
    "        if np.array_equal(column[i], star):\n",
    "            tasks['stars'] += 1\n",
    "        elif np.array_equal(column[i], meteor):\n",
    "            num_meteors += 1\n",
    "        elif np.array_equal(column[i], ocean):\n",
    "            tasks['meteors'] += num_meteors\n",
    "            tasks['perpendicular_meteors'] += num_meteors\n",
    "            break\n",
    "        elif np.array_equal(column[i], horizon):\n",
    "            tasks['meteors'] += num_meteors\n",
    "            break\n",
    "    "
   ]
  },
  {
   "cell_type": "code",
   "execution_count": 35,
   "metadata": {},
   "outputs": [
    {
     "name": "stdout",
     "output_type": "stream",
     "text": [
      "{'stars': 315, 'meteors': 328, 'perpendicular_meteors': 105}\n"
     ]
    }
   ],
   "source": [
    "print(tasks)"
   ]
  },
  {
   "cell_type": "markdown",
   "metadata": {},
   "source": [
    "# Conclusão\n",
    "Temos um total 315 estrelas na imagem e 328 meteoros, os quais 105 estão caindo perpendicular ao oceano."
   ]
  },
  {
   "cell_type": "markdown",
   "metadata": {},
   "source": [
    "# Desafio Extra\n",
    "Objetivo: Encontrar frase escondida nos pontos no céu.\n",
    "Dicas:\n",
    "- 177 caracteres;\n",
    "- as tasks feitas nos desafios anteriores podem ser reutilizadas nesse."
   ]
  },
  {
   "cell_type": "markdown",
   "metadata": {},
   "source": [
    "### Reutilizando o que já foi feito\n",
    "Como o desafio nos fala que podemos reutilizar o código usado antes, vamos fazer a contagem de pontos em cada coluna e ver aonde isso nos leva"
   ]
  },
  {
   "cell_type": "code",
   "execution_count": 36,
   "metadata": {},
   "outputs": [],
   "source": [
    "dots_in_the_sky = []\n",
    "for j in range(columns):\n",
    "    #dots_in_the_sky.append([])\n",
    "    number_of_dots = 0\n",
    "    column = np_image[:, j]\n",
    "    for i in range(lines):\n",
    "        if np.array_equal(column[i], star) or np.array_equal(column[i], meteor):\n",
    "            number_of_dots += 1\n",
    "        elif np.array_equal(column[i], ocean) or  np.array_equal(column[i], horizon):\n",
    "            break\n",
    "    #dots_in_the_sky[j].append(number_of_dots)\n",
    "    dots_in_the_sky.append(number_of_dots)\n",
    "    np_dots_in_the_sky = np.array(dots_in_the_sky)\n"
   ]
  },
  {
   "cell_type": "code",
   "execution_count": 37,
   "metadata": {},
   "outputs": [
    {
     "name": "stdout",
     "output_type": "stream",
     "text": [
      " .-.  -  -.....- --. . . .-. .-. --. ...  - ...  .- ...  -. -... --..-.. .-. ... .-    . -- .... --..-.- --. ..- --...    -      --.-  . -- ---- --- -.-  -      -- . .. --    - --...-  .-  .   .-. .   --..  - -- -.-- --. - -  -      -- .  . -- -... --. -    - ...  .- . .. -. .. - --. - . .-. ... .-.  .. .- .. . -- ...- --. .-  -- -..- --..-.. --. -..  -      -- ...  -- ---- --- .-. .-. ... -- .  . --.  .. --. ..  .-  ..   -      .-..  . .- --.- .-. . . ...  .  -- ..-- --   .- -- -.-. .-..  . .-  ... -.  ... --. . . .- ..   -- . .  -- -..- --. . .  - .... -..  .- --.-... -- .-   .-. ..  -- ...- --. ..- --. - . --. . . .-.  .  .- .. . -....-- --- -.  -- .  - -- --.  -- .-.. .- .... -- .--  -- .-.-\n",
      " .-.  -  -.....- --. . . .-. .-. --. ...  - ...  .- ...  -. -... --..-.. .-. ... .-    . -- .... --..-.- --. ..- --...    -      --.-  . -- ---- --- -.-  -      -- . .. --    - --...-  .-  .   .-. .   --..  - -- -.-- --. - -  -      -- .  . -- -... --. -    - ...  .- . .. -. .. - --. - . .-. ... .-.  .. .- .. . -- ...- --. .-  -- -..- --..-.. --. -..  -      -- ...  -- ---- --- .-. .-. ... -- .  . --.  .. --. ..  .-  ..   -      .-..  . .- --.- .-. . . ...  .  -- ..-- --   .- -- -.-. .-..  . .-  ... -.  ... --. . . .- ..   -- . .  -- -..- --. . .  - .... -..  .- --.-... -- .-   .-. ..  -- ...- --. ..- --. - . --. . . .-.  .  .- .. . -....-- --- -.  -- .  - -- --.  -- .-.. .- .... -- .--  -- .-.-\n"
     ]
    }
   ],
   "source": [
    "\n",
    "message = \"\"\n",
    "for item in np_dots_in_the_sky:\n",
    "    if item == 2:\n",
    "        message += '-'\n",
    "    elif item == 1:\n",
    "        message += '.'\n",
    "    else:\n",
    "        message += ' '\n",
    "print(message)\n",
    "message.replace(\" \", \"\")\n",
    "print(message)\n"
   ]
  }
 ],
 "metadata": {
  "kernelspec": {
   "display_name": "Python 3.8.10 64-bit",
   "language": "python",
   "name": "python3"
  },
  "language_info": {
   "codemirror_mode": {
    "name": "ipython",
    "version": 3
   },
   "file_extension": ".py",
   "mimetype": "text/x-python",
   "name": "python",
   "nbconvert_exporter": "python",
   "pygments_lexer": "ipython3",
   "version": "3.8.10"
  },
  "orig_nbformat": 4,
  "vscode": {
   "interpreter": {
    "hash": "916dbcbb3f70747c44a77c7bcd40155683ae19c65e1c03b4aa3499c5328201f1"
   }
  }
 },
 "nbformat": 4,
 "nbformat_minor": 2
}
